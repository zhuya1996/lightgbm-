{
 "cells": [
  {
   "cell_type": "code",
   "execution_count": null,
   "metadata": {
    "collapsed": true
   },
   "outputs": [],
   "source": [
    "from sklearn.ensemble import RandomForestClassifier\n",
    "import sklearn.model_selection \n",
    "from sklearn.model_selection import GridSearchCV\n",
    "import lightgbm as gbm"
   ]
  },
  {
   "cell_type": "code",
   "execution_count": null,
   "metadata": {
    "collapsed": true
   },
   "outputs": [],
   "source": [
    "model_lgb = model_lgb = lgb.LGBMClassifier() ## Can use Regressor, details please refer to the official site.\n",
    "##http://lightgbm.readthedocs.io/en/latest/python/lightgbm.html#scikit-learn-api"
   ]
  },
  {
   "cell_type": "code",
   "execution_count": null,
   "metadata": {
    "collapsed": true
   },
   "outputs": [],
   "source": [
    "## A sample demonstrating how to use GridSearchCV with LightGBM (LGBM)\n",
    "\n",
    "# Train model, evaluate and make predictions\n",
    "params = {}\n",
    "params['learning_rate'] = [0.4]\n",
    "params['application'] = ['binary']\n",
    "params['max_depth'] = [15]\n",
    "params['num_leaves'] = [2**8]\n",
    "params['verbosity'] = [0]\n",
    "params['metric'] = ['auc']\n",
    "\n",
    "\n",
    "grid_search_lgb = GridSearchCV(model_lgb, params, scoring ='roc_auc')\n",
    "grid_search_lgb.fit(X_train, y_train,\n",
    "        eval_set=[(X_valid, y_valid)],\n",
    "        eval_metric='roc_auc',\n",
    "        early_stopping_rounds=5)\n",
    "\n"
   ]
  }
 ],
 "metadata": {
  "hide_input": false,
  "kernelspec": {
   "display_name": "Python 3",
   "language": "python",
   "name": "python3"
  },
  "language_info": {
   "codemirror_mode": {
    "name": "ipython",
    "version": 3
   },
   "file_extension": ".py",
   "mimetype": "text/x-python",
   "name": "python",
   "nbconvert_exporter": "python",
   "pygments_lexer": "ipython3",
   "version": "3.5.4"
  }
 },
 "nbformat": 4,
 "nbformat_minor": 2
}
